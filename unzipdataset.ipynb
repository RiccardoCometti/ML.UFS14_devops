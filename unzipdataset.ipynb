{
 "cells": [
  {
   "cell_type": "code",
   "execution_count": 2,
   "id": "e43f9299",
   "metadata": {},
   "outputs": [
    {
     "name": "stdout",
     "output_type": "stream",
     "text": [
      "Dataset scompattato con successo!\n"
     ]
    }
   ],
   "source": [
    "import boto3\n",
    "import zipfile\n",
    "import os\n",
    "\n",
    "# Parametri\n",
    "s3_bucket = 'nuovobucketdevops'\n",
    "dataset_key = 'car only.v2i.yolov8.zip'  # Nome del file su S3\n",
    "local_path = 'ML.UFS14_devops'  # Dove decomprimere\n",
    "\n",
    "# Scarica il dataset da S3\n",
    "s3 = boto3.client('s3')\n",
    "s3.download_file(s3_bucket, dataset_key, 'car only.v2i.yolov8.zip')\n",
    "\n",
    "# Estrai il dataset\n",
    "with zipfile.ZipFile('car only.v2i.yolov8.zip', 'r') as zip_ref:\n",
    "    zip_ref.extractall(local_path)\n",
    "\n",
    "print(\"Dataset scompattato con successo!\")\n"
   ]
  },
  {
   "cell_type": "code",
   "execution_count": 7,
   "id": "c467ffbe",
   "metadata": {},
   "outputs": [],
   "source": [
    "import boto3\n",
    "import zipfile\n",
    "import os\n",
    "\n",
    "# Scarica il dataset da S3\n",
    "s3 = boto3.client('s3')\n",
    "s3.download_file('nuovobucketdevops', 'car only.v2i.yolov8.zip', 'ML.UFS14_devops/car only.v2i.yolov8.zip')\n",
    "\n",
    "# Estrai il dataset\n",
    "with zipfile.ZipFile('ML.UFS14_devops/car only.v2i.yolov8.zip', 'r') as zip_ref:\n",
    "    zip_ref.extractall('ML.UFS14_devops')\n"
   ]
  },
  {
   "cell_type": "code",
   "execution_count": null,
   "id": "bc7b1eb0",
   "metadata": {},
   "outputs": [],
   "source": []
  },
  {
   "cell_type": "code",
   "execution_count": null,
   "id": "a6ad483b",
   "metadata": {},
   "outputs": [],
   "source": []
  }
 ],
 "metadata": {
  "kernelspec": {
   "display_name": "conda_python3",
   "language": "python",
   "name": "conda_python3"
  },
  "language_info": {
   "codemirror_mode": {
    "name": "ipython",
    "version": 3
   },
   "file_extension": ".py",
   "mimetype": "text/x-python",
   "name": "python",
   "nbconvert_exporter": "python",
   "pygments_lexer": "ipython3",
   "version": "3.10.15"
  }
 },
 "nbformat": 4,
 "nbformat_minor": 5
}
